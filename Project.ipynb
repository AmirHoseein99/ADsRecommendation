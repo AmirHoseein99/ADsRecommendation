{
 "cells": [
  {
   "cell_type": "code",
   "execution_count": 1,
   "metadata": {},
   "outputs": [],
   "source": [
    "from __future__ import unicode_literals\n",
    "from functools import partial\n",
    "from hazm import Stemmer, Lemmatizer, Normalizer, WordTokenizer\n",
    "import pandas as pd\n",
    "import numpy as np\n",
    "import matplotlib.pyplot as plt\n",
    "import joblib\n",
    "import sklearn\n",
    "from sklearn.feature_extraction.text import CountVectorizer, TfidfVectorizer\n",
    "from sklearn.preprocessing import LabelEncoder\n",
    "from sklearn.model_selection import train_test_split,cross_val_predict, cross_val_score, GridSearchCV, RandomizedSearchCV\n",
    "from sklearn.metrics import precision_score, recall_score,precision_recall_curve\n",
    "from sklearn.metrics import accuracy_score,roc_auc_score,confusion_matrix, f1_score, make_scorer\n",
    "from sklearn.naive_bayes import MultinomialNB, GaussianNB\n",
    "from sklearn.ensemble import RandomForestClassifier\n",
    "from sklearn.linear_model import SGDClassifier, LogisticRegression\n",
    "from sklearn.tree import DecisionTreeClassifier\n",
    "from sklearn.neighbors import KNeighborsClassifier\n",
    "from sklearn.decomposition import PCA\n",
    "from sklearn.pipeline import Pipeline\n",
    "from sklearn.base import BaseEstimator, TransformerMixin\n",
    "from collections import Counter\n",
    "import time\n",
    "import os\n",
    "from pathlib import Path\n",
    "\n",
    "import warnings\n",
    "warnings.filterwarnings(\"ignore\")\n",
    "%matplotlib inline"
   ]
  },
  {
   "cell_type": "markdown",
   "metadata": {},
   "source": [
    "## Building Language Model"
   ]
  },
  {
   "cell_type": "code",
   "execution_count": 2,
   "metadata": {},
   "outputs": [
    {
     "name": "stdout",
     "output_type": "stream",
     "text": [
      "11564\n"
     ]
    },
    {
     "data": {
      "text/html": [
       "<div>\n",
       "<style scoped>\n",
       "    .dataframe tbody tr th:only-of-type {\n",
       "        vertical-align: middle;\n",
       "    }\n",
       "\n",
       "    .dataframe tbody tr th {\n",
       "        vertical-align: top;\n",
       "    }\n",
       "\n",
       "    .dataframe thead th {\n",
       "        text-align: right;\n",
       "    }\n",
       "</style>\n",
       "<table border=\"1\" class=\"dataframe\">\n",
       "  <thead>\n",
       "    <tr style=\"text-align: right;\">\n",
       "      <th></th>\n",
       "      <th>0</th>\n",
       "      <th>1</th>\n",
       "      <th>2</th>\n",
       "      <th>3</th>\n",
       "      <th>4</th>\n",
       "      <th>5</th>\n",
       "      <th>6</th>\n",
       "      <th>7</th>\n",
       "      <th>8</th>\n",
       "      <th>9</th>\n",
       "      <th>10</th>\n",
       "      <th>11</th>\n",
       "      <th>12</th>\n",
       "      <th>13</th>\n",
       "      <th>14</th>\n",
       "    </tr>\n",
       "  </thead>\n",
       "  <tbody>\n",
       "    <tr>\n",
       "      <th>11559</th>\n",
       "      <td>4143463</td>\n",
       "      <td>1varzesh.com/football/turkey/superlig/2018-19/...</td>\n",
       "      <td>روزهای بد امیری در سوپرلیگ ترکیه - یک ورزش به ...</td>\n",
       "      <td>روزهای بد امیری در سوپرلیگ ترکیه</td>\n",
       "      <td>لژیونر فوتبال ایران در تیم ترابزون اسپور روزها...</td>\n",
       "      <td>روزهای بد امیری در سوپرلیگ ترکیه - یک ورزش</td>\n",
       "      <td>لژیونر فوتبال ایران در تیم ترابزون اسپور روزها...</td>\n",
       "      <td>['امیری', 'ترکیه', 'رده', 'وحید', 'سید', 'میدا...</td>\n",
       "      <td>NaN</td>\n",
       "      <td>13.0</td>\n",
       "      <td>0.517595</td>\n",
       "      <td>{\"13\": 0.517595361945674, \"31\": 0.001317263397...</td>\n",
       "      <td>2018-10-27 12:45:37.458226+03:30</td>\n",
       "      <td>2018-10-27 12:45:37.458193+03:30</td>\n",
       "      <td>{\"13\": {\"probability\": \"0.517595361945674\", \"s...</td>\n",
       "    </tr>\n",
       "    <tr>\n",
       "      <th>11560</th>\n",
       "      <td>4182366</td>\n",
       "      <td>1varzesh.com/football/turkey/superlig/2018-19/...</td>\n",
       "      <td>تساوی ترابزون اسپور با امیری و حسینی - یک ورزش...</td>\n",
       "      <td>تساوی ترابزون اسپور با امیری و حسینی</td>\n",
       "      <td>تیم فوتبال ترابزون اسپور که در ترکیب از بازیکن...</td>\n",
       "      <td>تساوی ترابزون اسپور با امیری و حسینی - یک ورزش</td>\n",
       "      <td>تیم فوتبال ترابزون اسپور که در ترکیب از بازیکن...</td>\n",
       "      <td>['حسینی', 'امیری', 'ورزش', 'لیگ', 'اسپور', 'تر...</td>\n",
       "      <td>NaN</td>\n",
       "      <td>13.0</td>\n",
       "      <td>0.757363</td>\n",
       "      <td>{\"13\": 0.7573625064373598, \"31\": 0.00115572814...</td>\n",
       "      <td>2018-10-28 08:31:13.801743+03:30</td>\n",
       "      <td>2018-10-28 08:31:13.801728+03:30</td>\n",
       "      <td>{\"13\": {\"probability\": \"0.7573625064373598\", \"...</td>\n",
       "    </tr>\n",
       "    <tr>\n",
       "      <th>11561</th>\n",
       "      <td>4709354</td>\n",
       "      <td>1varzesh.com/football/turkey/superlig/2018-19/...</td>\n",
       "      <td>شکست سنگین ترابزون با حسینی - یک ورزش ترابزون ...</td>\n",
       "      <td>شکست سنگین ترابزون با حسینی</td>\n",
       "      <td>ترابزون اسپور که در ترکیب از بازیکن ایرانی‌اش ...</td>\n",
       "      <td>شکست سنگین ترابزون با حسینی - یک ورزش</td>\n",
       "      <td>ترابزون اسپور که در ترکیب از بازیکن ایرانی‌اش ...</td>\n",
       "      <td>['ورزش', 'گل', 'حسینی', 'ذخیره', 'ترابزون', 'ت...</td>\n",
       "      <td>NaN</td>\n",
       "      <td>13.0</td>\n",
       "      <td>0.607256</td>\n",
       "      <td>{\"13\": 0.6072557407472986, \"31\": 0.00925766676...</td>\n",
       "      <td>2018-11-10 08:29:17.356765+03:30</td>\n",
       "      <td>2018-11-10 08:29:17.35675+03:30</td>\n",
       "      <td>{\"13\": {\"probability\": \"0.6072557407472986\", \"...</td>\n",
       "    </tr>\n",
       "    <tr>\n",
       "      <th>11562</th>\n",
       "      <td>4813259</td>\n",
       "      <td>1varzesh.com/football/turkey/superlig/2018-19/...</td>\n",
       "      <td>یک تیم لالیگایی به دنبال حسینی - یک ورزش به نق...</td>\n",
       "      <td>یک تیم لالیگایی به دنبال حسینی</td>\n",
       "      <td>سایت ترکیه‌ای از ابراز علاقه یک تیم اسپانیایی ...</td>\n",
       "      <td>یک تیم لالیگایی به دنبال حسینی - یک ورزش</td>\n",
       "      <td>سایت ترکیه‌ای از ابراز علاقه یک تیم اسپانیایی ...</td>\n",
       "      <td>['باشگاه', 'ورزش', 'حسینی', 'سید', 'ترکی', 'پی...</td>\n",
       "      <td>NaN</td>\n",
       "      <td>13.0</td>\n",
       "      <td>0.446687</td>\n",
       "      <td>{\"13\": 0.4466869902891258, \"31\": 0.00276182980...</td>\n",
       "      <td>2018-11-12 15:19:24.998229+03:30</td>\n",
       "      <td>2018-11-12 15:19:24.99821+03:30</td>\n",
       "      <td>{\"13\": {\"probability\": \"0.4466869902891258\", \"...</td>\n",
       "    </tr>\n",
       "    <tr>\n",
       "      <th>11563</th>\n",
       "      <td>5523973</td>\n",
       "      <td>1varzesh.com/football/turkey/superlig/2018-19/...</td>\n",
       "      <td>پیروزی ترابزون در شب گلزنی امیری - یک ورزش ترا...</td>\n",
       "      <td>پیروزی ترابزون در شب گلزنی امیری</td>\n",
       "      <td>ترابزون اسپور با گلزنی بازیکن ایرانی خود توانس...</td>\n",
       "      <td>پیروزی ترابزون در شب گلزنی امیری - یک ورزش</td>\n",
       "      <td>ترابزون اسپور با گلزنی بازیکن ایرانی خود توانس...</td>\n",
       "      <td>['گل', 'ترابزون', 'ورزش', 'امیری', 'میدان', 'ت...</td>\n",
       "      <td>NaN</td>\n",
       "      <td>13.0</td>\n",
       "      <td>0.732303</td>\n",
       "      <td>{\"21\": 0.00431195253124086, \"18\": 0.1135478983...</td>\n",
       "      <td>2018-12-02 02:08:46.117319+03:30</td>\n",
       "      <td>2018-12-02 02:08:46.117307+03:30</td>\n",
       "      <td>{\"13\": {\"probability\": \"0.7323029334228653\", \"...</td>\n",
       "    </tr>\n",
       "  </tbody>\n",
       "</table>\n",
       "</div>"
      ],
      "text/plain": [
       "            0                                                  1   \\\n",
       "11559  4143463  1varzesh.com/football/turkey/superlig/2018-19/...   \n",
       "11560  4182366  1varzesh.com/football/turkey/superlig/2018-19/...   \n",
       "11561  4709354  1varzesh.com/football/turkey/superlig/2018-19/...   \n",
       "11562  4813259  1varzesh.com/football/turkey/superlig/2018-19/...   \n",
       "11563  5523973  1varzesh.com/football/turkey/superlig/2018-19/...   \n",
       "\n",
       "                                                      2   \\\n",
       "11559  روزهای بد امیری در سوپرلیگ ترکیه - یک ورزش به ...   \n",
       "11560  تساوی ترابزون اسپور با امیری و حسینی - یک ورزش...   \n",
       "11561  شکست سنگین ترابزون با حسینی - یک ورزش ترابزون ...   \n",
       "11562  یک تیم لالیگایی به دنبال حسینی - یک ورزش به نق...   \n",
       "11563  پیروزی ترابزون در شب گلزنی امیری - یک ورزش ترا...   \n",
       "\n",
       "                                         3   \\\n",
       "11559      روزهای بد امیری در سوپرلیگ ترکیه   \n",
       "11560  تساوی ترابزون اسپور با امیری و حسینی   \n",
       "11561           شکست سنگین ترابزون با حسینی   \n",
       "11562        یک تیم لالیگایی به دنبال حسینی   \n",
       "11563      پیروزی ترابزون در شب گلزنی امیری   \n",
       "\n",
       "                                                      4   \\\n",
       "11559  لژیونر فوتبال ایران در تیم ترابزون اسپور روزها...   \n",
       "11560  تیم فوتبال ترابزون اسپور که در ترکیب از بازیکن...   \n",
       "11561  ترابزون اسپور که در ترکیب از بازیکن ایرانی‌اش ...   \n",
       "11562  سایت ترکیه‌ای از ابراز علاقه یک تیم اسپانیایی ...   \n",
       "11563  ترابزون اسپور با گلزنی بازیکن ایرانی خود توانس...   \n",
       "\n",
       "                                                   5   \\\n",
       "11559      روزهای بد امیری در سوپرلیگ ترکیه - یک ورزش   \n",
       "11560  تساوی ترابزون اسپور با امیری و حسینی - یک ورزش   \n",
       "11561           شکست سنگین ترابزون با حسینی - یک ورزش   \n",
       "11562        یک تیم لالیگایی به دنبال حسینی - یک ورزش   \n",
       "11563      پیروزی ترابزون در شب گلزنی امیری - یک ورزش   \n",
       "\n",
       "                                                      6   \\\n",
       "11559  لژیونر فوتبال ایران در تیم ترابزون اسپور روزها...   \n",
       "11560  تیم فوتبال ترابزون اسپور که در ترکیب از بازیکن...   \n",
       "11561  ترابزون اسپور که در ترکیب از بازیکن ایرانی‌اش ...   \n",
       "11562  سایت ترکیه‌ای از ابراز علاقه یک تیم اسپانیایی ...   \n",
       "11563  ترابزون اسپور با گلزنی بازیکن ایرانی خود توانس...   \n",
       "\n",
       "                                                      7   8     9         10  \\\n",
       "11559  ['امیری', 'ترکیه', 'رده', 'وحید', 'سید', 'میدا... NaN  13.0  0.517595   \n",
       "11560  ['حسینی', 'امیری', 'ورزش', 'لیگ', 'اسپور', 'تر... NaN  13.0  0.757363   \n",
       "11561  ['ورزش', 'گل', 'حسینی', 'ذخیره', 'ترابزون', 'ت... NaN  13.0  0.607256   \n",
       "11562  ['باشگاه', 'ورزش', 'حسینی', 'سید', 'ترکی', 'پی... NaN  13.0  0.446687   \n",
       "11563  ['گل', 'ترابزون', 'ورزش', 'امیری', 'میدان', 'ت... NaN  13.0  0.732303   \n",
       "\n",
       "                                                      11  \\\n",
       "11559  {\"13\": 0.517595361945674, \"31\": 0.001317263397...   \n",
       "11560  {\"13\": 0.7573625064373598, \"31\": 0.00115572814...   \n",
       "11561  {\"13\": 0.6072557407472986, \"31\": 0.00925766676...   \n",
       "11562  {\"13\": 0.4466869902891258, \"31\": 0.00276182980...   \n",
       "11563  {\"21\": 0.00431195253124086, \"18\": 0.1135478983...   \n",
       "\n",
       "                                     12                                13  \\\n",
       "11559  2018-10-27 12:45:37.458226+03:30  2018-10-27 12:45:37.458193+03:30   \n",
       "11560  2018-10-28 08:31:13.801743+03:30  2018-10-28 08:31:13.801728+03:30   \n",
       "11561  2018-11-10 08:29:17.356765+03:30   2018-11-10 08:29:17.35675+03:30   \n",
       "11562  2018-11-12 15:19:24.998229+03:30   2018-11-12 15:19:24.99821+03:30   \n",
       "11563  2018-12-02 02:08:46.117319+03:30  2018-12-02 02:08:46.117307+03:30   \n",
       "\n",
       "                                                      14  \n",
       "11559  {\"13\": {\"probability\": \"0.517595361945674\", \"s...  \n",
       "11560  {\"13\": {\"probability\": \"0.7573625064373598\", \"...  \n",
       "11561  {\"13\": {\"probability\": \"0.6072557407472986\", \"...  \n",
       "11562  {\"13\": {\"probability\": \"0.4466869902891258\", \"...  \n",
       "11563  {\"13\": {\"probability\": \"0.7323029334228653\", \"...  "
      ]
     },
     "execution_count": 2,
     "metadata": {},
     "output_type": "execute_result"
    }
   ],
   "source": [
    "colnames = [i for i in range(15)]\n",
    "web_data = pd.read_csv(\"data/web.csv\", names = colnames, header=None)\n",
    "print(len(web_data))\n",
    "web_data.tail()"
   ]
  },
  {
   "cell_type": "code",
   "execution_count": 3,
   "metadata": {},
   "outputs": [],
   "source": [
    "informative_cols = [1,2,3,4,5,6,7]\n",
    "web_data = web_data[informative_cols]"
   ]
  },
  {
   "cell_type": "code",
   "execution_count": 4,
   "metadata": {},
   "outputs": [],
   "source": [
    "with open(\"data/wiki.txt\") as f:\n",
    "    wiki_data = f.readlines()"
   ]
  },
  {
   "cell_type": "code",
   "execution_count": 5,
   "metadata": {},
   "outputs": [
    {
     "name": "stdout",
     "output_type": "stream",
     "text": [
      "corpus shape:(31564,)\n"
     ]
    }
   ],
   "source": [
    "target_col = 2\n",
    "corpus = np.concatenate([web_data[2],wiki_data])\n",
    "print(f\"corpus shape:{corpus.shape}\")"
   ]
  },
  {
   "cell_type": "code",
   "execution_count": 6,
   "metadata": {},
   "outputs": [],
   "source": [
    "def mytokenizer(stemmer,lemmatizer, word_tokenizer,document):\n",
    "    tokens = word_tokenizer.tokenize(document)\n",
    "    tokens = [lemmatizer.lemmatize(stemmer.stem(token)) for token in tokens]\n",
    "    return tokens"
   ]
  },
  {
   "cell_type": "code",
   "execution_count": 7,
   "metadata": {
    "scrolled": true
   },
   "outputs": [],
   "source": [
    "normalizer = Normalizer(persian_numbers=False)\n",
    "stemmer = Stemmer()\n",
    "lemmatizer = Lemmatizer()\n",
    "word_tokenizer = WordTokenizer(replace_emails=True, replace_links=True, replace_IDs=True)\n",
    "tokenizer=partial(mytokenizer, stemmer, lemmatizer, word_tokenizer)"
   ]
  },
  {
   "cell_type": "code",
   "execution_count": 14,
   "metadata": {},
   "outputs": [
    {
     "name": "stderr",
     "output_type": "stream",
     "text": [
      "/Users/macbookpro/anaconda3/lib/python3.6/site-packages/sklearn/feature_extraction/text.py:507: UserWarning: The parameter 'token_pattern' will not be used since 'tokenizer' is not None'\n",
      "  warnings.warn(\"The parameter 'token_pattern' will not be used\"\n"
     ]
    },
    {
     "name": "stdout",
     "output_type": "stream",
     "text": [
      "vocab size: 265497\n"
     ]
    },
    {
     "data": {
      "text/plain": [
       "['cv_vocab.pkl']"
      ]
     },
     "execution_count": 14,
     "metadata": {},
     "output_type": "execute_result"
    }
   ],
   "source": [
    "start = time.time()\n",
    "cv = CountVectorizer(preprocessor=normalizer.normalize,tokenizer=tokenizer)\n",
    "cv.fit(corpus)\n",
    "print(f\"Fit time: {time.time()-start}s\")\n",
    "print(f\"vocab size: {len(cv.vocabulary_)}\")\n",
    "joblib.dump(cv.vocabulary_,\"saved_models/cv_vocab.pkl\")"
   ]
  },
  {
   "cell_type": "code",
   "execution_count": 8,
   "metadata": {},
   "outputs": [],
   "source": [
    "vocab = joblib.load(\"saved_models/cv_vocab.pkl\")"
   ]
  },
  {
   "cell_type": "code",
   "execution_count": 9,
   "metadata": {},
   "outputs": [
    {
     "name": "stdout",
     "output_type": "stream",
     "text": [
      "Fit time: 260.7113573551178s\n"
     ]
    }
   ],
   "source": [
    "start = time.time()\n",
    "tfidf = TfidfVectorizer(preprocessor=normalizer.normalize,\n",
    "                        tokenizer=tokenizer,\n",
    "                        vocabulary=vocab)\n",
    "tfidf.fit(corpus)\n",
    "print(f\"Fit time: {time.time()-start}s\")"
   ]
  },
  {
   "cell_type": "code",
   "execution_count": 10,
   "metadata": {},
   "outputs": [
    {
     "data": {
      "text/plain": [
       "['saved_models/idf.pkl']"
      ]
     },
     "execution_count": 10,
     "metadata": {},
     "output_type": "execute_result"
    }
   ],
   "source": [
    "joblib.dump(tfidf.idf_, \"saved_models/idf.pkl\")"
   ]
  },
  {
   "cell_type": "markdown",
   "metadata": {},
   "source": [
    "## Looking At Scrapped Data"
   ]
  },
  {
   "cell_type": "code",
   "execution_count": 11,
   "metadata": {},
   "outputs": [
    {
     "name": "stdout",
     "output_type": "stream",
     "text": [
      "(3563, 3)\n"
     ]
    },
    {
     "data": {
      "text/html": [
       "<div>\n",
       "<style scoped>\n",
       "    .dataframe tbody tr th:only-of-type {\n",
       "        vertical-align: middle;\n",
       "    }\n",
       "\n",
       "    .dataframe tbody tr th {\n",
       "        vertical-align: top;\n",
       "    }\n",
       "\n",
       "    .dataframe thead th {\n",
       "        text-align: right;\n",
       "    }\n",
       "</style>\n",
       "<table border=\"1\" class=\"dataframe\">\n",
       "  <thead>\n",
       "    <tr style=\"text-align: right;\">\n",
       "      <th></th>\n",
       "      <th>category</th>\n",
       "      <th>name</th>\n",
       "      <th>summary</th>\n",
       "    </tr>\n",
       "  </thead>\n",
       "  <tbody>\n",
       "    <tr>\n",
       "      <th>0</th>\n",
       "      <td>مودم - روتر ADSL</td>\n",
       "      <td>مودم روتر ADSL2 Plus بی‌سیم N300 تی پی-لینک مد...</td>\n",
       "      <td>تی‌پی-لینک TD-W8961N یک مودم‌روتر +ADSL2 است ک...</td>\n",
       "    </tr>\n",
       "    <tr>\n",
       "      <th>1</th>\n",
       "      <td>تجهیزات جانبی ایروبیک و تناسب اندام</td>\n",
       "      <td>نیمکت بدنسازی مدل HT17</td>\n",
       "      <td>نیمکت بدنسازی تخت حرفه ای ، قابل استفاده در با...</td>\n",
       "    </tr>\n",
       "    <tr>\n",
       "      <th>2</th>\n",
       "      <td>تجهیزات جانبی ایروبیک و تناسب اندام</td>\n",
       "      <td>ترامپولین مکسول مدل EL120</td>\n",
       "      <td>ورزش ترامپولین اغلب به عنوان یکی از بهترین و م...</td>\n",
       "    </tr>\n",
       "    <tr>\n",
       "      <th>3</th>\n",
       "      <td>جاشمعی، جاعودی و آباژور</td>\n",
       "      <td>جا عودی طرح خانه قلبی کد 02</td>\n",
       "      <td>برای بسیاری از ما استفاده از بوی عود بسیار مطب...</td>\n",
       "    </tr>\n",
       "    <tr>\n",
       "      <th>4</th>\n",
       "      <td>تجهیزات جانبی ایروبیک و تناسب اندام</td>\n",
       "      <td>ترامپولین مدل Tsky110</td>\n",
       "      <td>ترامپولین وسیله ای مفرح جهت افزایش شادابی و تح...</td>\n",
       "    </tr>\n",
       "  </tbody>\n",
       "</table>\n",
       "</div>"
      ],
      "text/plain": [
       "                              category  \\\n",
       "0                     مودم - روتر ADSL   \n",
       "1  تجهیزات جانبی ایروبیک و تناسب اندام   \n",
       "2  تجهیزات جانبی ایروبیک و تناسب اندام   \n",
       "3              جاشمعی، جاعودی و آباژور   \n",
       "4  تجهیزات جانبی ایروبیک و تناسب اندام   \n",
       "\n",
       "                                                name  \\\n",
       "0  مودم روتر ADSL2 Plus بی‌سیم N300 تی پی-لینک مد...   \n",
       "1                             نیمکت بدنسازی مدل HT17   \n",
       "2                          ترامپولین مکسول مدل EL120   \n",
       "3                        جا عودی طرح خانه قلبی کد 02   \n",
       "4                              ترامپولین مدل Tsky110   \n",
       "\n",
       "                                             summary  \n",
       "0  تی‌پی-لینک TD-W8961N یک مودم‌روتر +ADSL2 است ک...  \n",
       "1  نیمکت بدنسازی تخت حرفه ای ، قابل استفاده در با...  \n",
       "2  ورزش ترامپولین اغلب به عنوان یکی از بهترین و م...  \n",
       "3  برای بسیاری از ما استفاده از بوی عود بسیار مطب...  \n",
       "4  ترامپولین وسیله ای مفرح جهت افزایش شادابی و تح...  "
      ]
     },
     "execution_count": 11,
     "metadata": {},
     "output_type": "execute_result"
    }
   ],
   "source": [
    "items_df = pd.read_csv(\"data/items.csv\")\n",
    "print(items_df.shape)\n",
    "items_df.head()"
   ]
  },
  {
   "cell_type": "code",
   "execution_count": 12,
   "metadata": {},
   "outputs": [
    {
     "name": "stdout",
     "output_type": "stream",
     "text": [
      "category    0\n",
      "name        0\n",
      "summary     3\n",
      "dtype: int64\n"
     ]
    }
   ],
   "source": [
    "print(items_df.isna().sum())\n",
    "items_df.dropna(inplace=True)"
   ]
  },
  {
   "cell_type": "code",
   "execution_count": 13,
   "metadata": {},
   "outputs": [
    {
     "name": "stdout",
     "output_type": "stream",
     "text": [
      "number of unique categories: 260\n"
     ]
    },
    {
     "data": {
      "image/png": "[encoded data removed]",
      "text/plain": [
       "<Figure size 720x360 with 1 Axes>"
      ]
     },
     "metadata": {
      "needs_background": "light"
     },
     "output_type": "display_data"
    }
   ],
   "source": [
    "print(f\"number of unique categories: {items_df.category.nunique()}\")\n",
    "value_counts = items_df.category.value_counts()\n",
    "plt.figure(figsize=(10,5))\n",
    "plt.bar(range(len(value_counts)),value_counts.values)\n",
    "plt.show()"
   ]
  },
  {
   "cell_type": "markdown",
   "metadata": {},
   "source": [
    "The long tail plot shows that many categories have small number of records. On the other hand small number of categories have many instances in dataset."
   ]
  },
  {
   "cell_type": "code",
   "execution_count": 14,
   "metadata": {},
   "outputs": [
    {
     "data": {
      "image/png": "[encoded data removed]",
      "text/plain": [
       "<Figure size 720x360 with 1 Axes>"
      ]
     },
     "metadata": {
      "needs_background": "light"
     },
     "output_type": "display_data"
    }
   ],
   "source": [
    "plt.figure(figsize=(10,5))\n",
    "plt.hist(value_counts.values,bins=14)\n",
    "plt.show()"
   ]
  },
  {
   "cell_type": "markdown",
   "metadata": {},
   "source": [
    "This histogram shows us many categories have number of records between 1 and 10 in dataset."
   ]
  },
  {
   "cell_type": "code",
   "execution_count": 15,
   "metadata": {},
   "outputs": [
    {
     "name": "stdout",
     "output_type": "stream",
     "text": [
      "max lenght: 1078, min length: 1, average length: 180\n",
      "25th percentile: 107.0, 75th percentile: 238.0\n"
     ]
    },
    {
     "data": {
      "image/png": "[encoded data removed]",
      "text/plain": [
       "<Figure size 432x288 with 1 Axes>"
      ]
     },
     "metadata": {
      "needs_background": "light"
     },
     "output_type": "display_data"
    }
   ],
   "source": [
    "summaries_length = np.array([len(x.split()) for x in items_df[\"summary\"]])\n",
    "print(f\"max lenght: {summaries_length.max()}, min length: {summaries_length.min()}, average length: {int(summaries_length.mean())}\")\n",
    "print(f\"25th percentile: {np.percentile(summaries_length,25)}, 75th percentile: {np.percentile(summaries_length,75)}\")\n",
    "plt.boxplot(summaries_length,patch_artist=True)\n",
    "plt.show()"
   ]
  },
  {
   "cell_type": "markdown",
   "metadata": {},
   "source": [
    "Box plot shows that 75 percent of our records lenghtes are lower than 253 words"
   ]
  },
  {
   "cell_type": "code",
   "execution_count": 16,
   "metadata": {},
   "outputs": [
    {
     "name": "stdout",
     "output_type": "stream",
     "text": [
      "number of duplicate summaries: 209\n",
      "number of duplicate name: 27\n"
     ]
    }
   ],
   "source": [
    "print(f\"number of duplicate summaries: {len(items_df.summary) - items_df.summary.nunique()}\")\n",
    "print(f\"number of duplicate name: {len(items_df.name) - items_df.name.nunique()}\")"
   ]
  },
  {
   "cell_type": "markdown",
   "metadata": {},
   "source": [
    "duplicate summaries must be removed because information from validation and test data could be leaked"
   ]
  },
  {
   "cell_type": "code",
   "execution_count": 17,
   "metadata": {},
   "outputs": [
    {
     "name": "stdout",
     "output_type": "stream",
     "text": [
      "no unique items scrapped: 3332\n"
     ]
    }
   ],
   "source": [
    "items_df = items_df.drop_duplicates(subset=\"summary\").drop_duplicates(subset=\"name\")\n",
    "print(\"no unique items scrapped:\", len(items_df))"
   ]
  },
  {
   "cell_type": "code",
   "execution_count": 18,
   "metadata": {},
   "outputs": [
    {
     "data": {
      "text/plain": [
       "Index(['category', 'آرام بند', 'آغوشی', 'آمپلی‌فایر', 'آچار', 'آینه',\n",
       "       'آینه دست‌ساز', 'آینه دوچرخه', 'ابزار بایگانی', 'ابزار دوچرخه'],\n",
       "      dtype='object')"
      ]
     },
     "execution_count": 18,
     "metadata": {},
     "output_type": "execute_result"
    }
   ],
   "source": [
    "items_df.category = items_df.category.astype(\"category\")\n",
    "items_df.category.cat.categories[:10]"
   ]
  },
  {
   "cell_type": "markdown",
   "metadata": {},
   "source": [
    "we just use classes with sufficient number of record so model can learn useful patterns."
   ]
  },
  {
   "cell_type": "code",
   "execution_count": 19,
   "metadata": {},
   "outputs": [
    {
     "name": "stdout",
     "output_type": "stream",
     "text": [
      "CategoricalIndex(['لپ تاپ و الترابوک', 'هدفون، هدست و هندزفری', 'گوشی موبایل',\n",
      "                  'پاوربانک (شارژر همراه)', 'تبلت', 'قمقمه و فلاسک', 'قفل',\n",
      "                  'کتاب چاپی', 'تجهیزات جانبی ایروبیک و تناسب اندام', 'مداد',\n",
      "                  'اصلاح موی صورت', 'روغن موتور', 'کیف و کوله',\n",
      "                  'چاقوی سفر و ابزار چند کاره', 'چندراهی برق و محافظ ولتاژ',\n",
      "                  'اتو و حالت دهنده ی مو', 'ساعت هوشمند', 'خودکار و روان نویس',\n",
      "                  'ماشین حساب', 'روغن', 'میکروفون حرفه‌ای', 'دفتر',\n",
      "                  'دوربین عکاسی', 'برنج', 'کرم ضد آفتاب', 'کیف و کاور گوشی',\n",
      "                  'توپ', 'پوشک کودک و نوزاد', 'ماست', 'شیرآلات', 'پنیر',\n",
      "                  'ریمل', 'کابل و مبدل', 'ست لباس راحتی پسرانه',\n",
      "                  'شامپو کودک و نوزاد', 'کارت حافظه',\n",
      "                  'کرم، بالم و لوسیون کودک و نوزاد',\n",
      "                  'پایه نگهدارنده گوشی و تبلت', 'باتری استاندارد'],\n",
      "                 categories=['category', 'آرام بند', 'آغوشی', 'آمپلی‌فایر', 'آچار', 'آینه', 'آینه دست‌ساز', 'آینه دوچرخه', ...], ordered=False, dtype='category')\n",
      "number of target categories: 39\n"
     ]
    }
   ],
   "source": [
    "threshold = 20\n",
    "value_counts = items_df[\"category\"].value_counts().sort_values(ascending=False)\n",
    "target_cats = value_counts[value_counts >= threshold].index\n",
    "print(target_cats)\n",
    "print(f\"number of target categories: {len(target_cats)}\")"
   ]
  },
  {
   "cell_type": "code",
   "execution_count": 20,
   "metadata": {},
   "outputs": [],
   "source": [
    "#writing target categories to a file so tha wikiscrapper will scrap data for each category available in wikipedia\n",
    "wiki_target_cats_path = \"wikiscrapper/categories\"\n",
    "with open(wiki_target_cats_path,\"w+\") as f:\n",
    "    for cat in target_cats:\n",
    "        f.write(cat + \"\\n\")"
   ]
  },
  {
   "cell_type": "code",
   "execution_count": 21,
   "metadata": {},
   "outputs": [
    {
     "data": {
      "text/html": [
       "<div>\n",
       "<style scoped>\n",
       "    .dataframe tbody tr th:only-of-type {\n",
       "        vertical-align: middle;\n",
       "    }\n",
       "\n",
       "    .dataframe tbody tr th {\n",
       "        vertical-align: top;\n",
       "    }\n",
       "\n",
       "    .dataframe thead th {\n",
       "        text-align: right;\n",
       "    }\n",
       "</style>\n",
       "<table border=\"1\" class=\"dataframe\">\n",
       "  <thead>\n",
       "    <tr style=\"text-align: right;\">\n",
       "      <th></th>\n",
       "      <th>category</th>\n",
       "      <th>name</th>\n",
       "      <th>summary</th>\n",
       "    </tr>\n",
       "  </thead>\n",
       "  <tbody>\n",
       "    <tr>\n",
       "      <th>0</th>\n",
       "      <td>مودم - روتر ADSL</td>\n",
       "      <td>مودم روتر ADSL2 Plus بی‌سیم N300 تی پی-لینک مد...</td>\n",
       "      <td>تی‌پی-لینک TD-W8961N یک مودم‌روتر +ADSL2 است ک...</td>\n",
       "    </tr>\n",
       "    <tr>\n",
       "      <th>1</th>\n",
       "      <td>تجهیزات جانبی ایروبیک و تناسب اندام</td>\n",
       "      <td>نیمکت بدنسازی مدل HT17</td>\n",
       "      <td>نیمکت بدنسازی تخت حرفه ای ، قابل استفاده در با...</td>\n",
       "    </tr>\n",
       "    <tr>\n",
       "      <th>2</th>\n",
       "      <td>تجهیزات جانبی ایروبیک و تناسب اندام</td>\n",
       "      <td>ترامپولین مکسول مدل EL120</td>\n",
       "      <td>ورزش ترامپولین اغلب به عنوان یکی از بهترین و م...</td>\n",
       "    </tr>\n",
       "    <tr>\n",
       "      <th>3</th>\n",
       "      <td>جاشمعی، جاعودی و آباژور</td>\n",
       "      <td>جا عودی طرح خانه قلبی کد 02</td>\n",
       "      <td>برای بسیاری از ما استفاده از بوی عود بسیار مطب...</td>\n",
       "    </tr>\n",
       "    <tr>\n",
       "      <th>4</th>\n",
       "      <td>تجهیزات جانبی ایروبیک و تناسب اندام</td>\n",
       "      <td>ترامپولین مدل Tsky110</td>\n",
       "      <td>ترامپولین وسیله ای مفرح جهت افزایش شادابی و تح...</td>\n",
       "    </tr>\n",
       "  </tbody>\n",
       "</table>\n",
       "</div>"
      ],
      "text/plain": [
       "                              category  \\\n",
       "0                     مودم - روتر ADSL   \n",
       "1  تجهیزات جانبی ایروبیک و تناسب اندام   \n",
       "2  تجهیزات جانبی ایروبیک و تناسب اندام   \n",
       "3              جاشمعی، جاعودی و آباژور   \n",
       "4  تجهیزات جانبی ایروبیک و تناسب اندام   \n",
       "\n",
       "                                                name  \\\n",
       "0  مودم روتر ADSL2 Plus بی‌سیم N300 تی پی-لینک مد...   \n",
       "1                             نیمکت بدنسازی مدل HT17   \n",
       "2                          ترامپولین مکسول مدل EL120   \n",
       "3                        جا عودی طرح خانه قلبی کد 02   \n",
       "4                              ترامپولین مدل Tsky110   \n",
       "\n",
       "                                             summary  \n",
       "0  تی‌پی-لینک TD-W8961N یک مودم‌روتر +ADSL2 است ک...  \n",
       "1  نیمکت بدنسازی تخت حرفه ای ، قابل استفاده در با...  \n",
       "2  ورزش ترامپولین اغلب به عنوان یکی از بهترین و م...  \n",
       "3  برای بسیاری از ما استفاده از بوی عود بسیار مطب...  \n",
       "4  ترامپولین وسیله ای مفرح جهت افزایش شادابی و تح...  "
      ]
     },
     "execution_count": 21,
     "metadata": {},
     "output_type": "execute_result"
    }
   ],
   "source": [
    "items_df.head()"
   ]
  },
  {
   "cell_type": "markdown",
   "metadata": {},
   "source": [
    "We don't use name because usually label is hidden in the name"
   ]
  },
  {
   "cell_type": "code",
   "execution_count": 22,
   "metadata": {},
   "outputs": [
    {
     "name": "stdout",
     "output_type": "stream",
     "text": [
      "2423\n"
     ]
    },
    {
     "data": {
      "text/plain": [
       "['saved_models/le.pkl']"
      ]
     },
     "execution_count": 22,
     "metadata": {},
     "output_type": "execute_result"
    }
   ],
   "source": [
    "t = items_df[items_df.category.apply(lambda cat : cat in target_cats)]\n",
    "assert sorted(t.category.unique()) == sorted(target_cats)\n",
    "print(len(t))\n",
    "X = t[\"summary\"]\n",
    "le = LabelEncoder()\n",
    "y = le.fit_transform(t[\"category\"])\n",
    "joblib.dump(le ,\"saved_models/le.pkl\")"
   ]
  },
  {
   "cell_type": "markdown",
   "metadata": {},
   "source": [
    "## Data preparation"
   ]
  },
  {
   "cell_type": "code",
   "execution_count": 23,
   "metadata": {},
   "outputs": [
    {
     "data": {
      "text/plain": [
       "(1938, 485)"
      ]
     },
     "execution_count": 23,
     "metadata": {},
     "output_type": "execute_result"
    }
   ],
   "source": [
    "X_train, X_test, y_train, y_test = train_test_split(X,y,test_size=0.2,random_state=28,stratify=y,shuffle=True)\n",
    "len(X_train), len(X_test)"
   ]
  },
  {
   "cell_type": "code",
   "execution_count": 24,
   "metadata": {},
   "outputs": [],
   "source": [
    "X_train_idf = pd.DataFrame(tfidf.transform(X_train).toarray())\n",
    "X_test_idf = pd.DataFrame(tfidf.transform(X_test).toarray())"
   ]
  },
  {
   "cell_type": "markdown",
   "metadata": {},
   "source": [
    "## Model Selection And Evaluation"
   ]
  },
  {
   "cell_type": "code",
   "execution_count": 25,
   "metadata": {},
   "outputs": [
    {
     "name": "stdout",
     "output_type": "stream",
     "text": [
      "stratified strategy scores: [0.03350515 0.04381443 0.03608247 0.03100775 0.03875969]\n",
      "most_frequent strategy scores: [0.09020619 0.09278351 0.09020619 0.09043928 0.09043928]\n",
      "uniform strategy scores: [0.02835052 0.03350515 0.02835052 0.02842377 0.02325581]\n"
     ]
    }
   ],
   "source": [
    "from sklearn.dummy import DummyClassifier\n",
    "strategies = [\"stratified\",\"most_frequent\",\"uniform\"]\n",
    "for strategy in strategies:\n",
    "    cv_results = cross_val_score(DummyClassifier(strategy=strategy),X_train_idf,y_train,scoring=\"accuracy\",cv=5)\n",
    "    print(f\"{strategy} strategy scores: {cv_results}\")"
   ]
  },
  {
   "cell_type": "markdown",
   "metadata": {},
   "source": [
    "Baseline : 9% accuracy"
   ]
  },
  {
   "cell_type": "code",
   "execution_count": 44,
   "metadata": {},
   "outputs": [],
   "source": [
    "def clf_metrics_values(preds,targets):\n",
    "    accuracy = accuracy_score(targets,preds)\n",
    "    \n",
    "    f1_micro = f1_score(targets,preds,average=\"micro\")\n",
    "    precision_micro = precision_score(targets,preds,average=\"micro\")\n",
    "    recall_micro = recall_score(targets,preds,average=\"micro\")\n",
    "    \n",
    "    f1_weighted = f1_score(targets,preds,average=\"micro\")\n",
    "    precision_weighted = precision_score(targets,preds,average=\"micro\")\n",
    "    recall_weighted = recall_score(targets,preds,average=\"micro\")\n",
    "    \n",
    "    return (accuracy, f1_micro, f1_weighted ,precision_micro,precision_weighted, recall_micro,recall_weighted)"
   ]
  },
  {
   "cell_type": "code",
   "execution_count": 29,
   "metadata": {},
   "outputs": [],
   "source": [
    "probs = cross_val_predict(LogisticRegression(),X_train_idf,y_train,cv=3,method=\"predict_proba\")"
   ]
  },
  {
   "cell_type": "code",
   "execution_count": 33,
   "metadata": {},
   "outputs": [],
   "source": [
    "preds = np.argmax(probs,axis=1)"
   ]
  },
  {
   "cell_type": "code",
   "execution_count": 30,
   "metadata": {},
   "outputs": [
    {
     "data": {
      "text/plain": [
       "(75582, 1938)"
      ]
     },
     "execution_count": 30,
     "metadata": {},
     "output_type": "execute_result"
    }
   ],
   "source": [
    "len(probs.nonzero()[0]), len(X_train)"
   ]
  },
  {
   "cell_type": "markdown",
   "metadata": {},
   "source": [
    "This indicates that for each sample there 39 non zero probabilities that can be used to recommend multiple categories instead of recommending just class with highest probability."
   ]
  },
  {
   "cell_type": "code",
   "execution_count": 48,
   "metadata": {},
   "outputs": [
    {
     "name": "stdout",
     "output_type": "stream",
     "text": [
      "accuracy:0.9494324045407637\n",
      "f1_micro:0.9494324045407637\n",
      "f1_weighted:0.9494324045407637\n",
      "precision_micro:0.9494324045407637\n",
      "precision_weighted:0.9494324045407637\n",
      "recall_micro:0.9494324045407637,\n",
      "recall_weighted:0.9494324045407637\n"
     ]
    }
   ],
   "source": [
    "(accuracy, f1_micro, f1_weighted ,precision_micro,precision_weighted, recall_micro,recall_weighted) = clf_metrics_values(preds,y_train)\n",
    "print(f\"accuracy:{accuracy}\\nf1_micro:{f1_micro}\\nf1_weighted:{f1_weighted}\\nprecision_micro:{precision_micro}\\nprecision_weighted:{precision_weighted}\\nrecall_micro:{recall_micro},\\nrecall_weighted:{recall_weighted}\")\n"
   ]
  },
  {
   "cell_type": "markdown",
   "metadata": {},
   "source": [
    "If a classifier obtains a large F1micro, this indicates that it performs well overall. The micro-average is not sensitive to the predictive performance for individual classes. As a consequence, the micro-average can be particularly misleading when the class distribution is imbalanced."
   ]
  },
  {
   "cell_type": "markdown",
   "metadata": {},
   "source": [
    "If F1macro has a large value, this indicates that a classifier performs well for each individual class. The macro-average is therefore more suitable for data with an imbalanced class distribution."
   ]
  },
  {
   "cell_type": "markdown",
   "metadata": {},
   "source": [
    "#### Dimentionality Reduction"
   ]
  },
  {
   "cell_type": "code",
   "execution_count": 49,
   "metadata": {},
   "outputs": [
    {
     "name": "stdout",
     "output_type": "stream",
     "text": [
      "Fit time: 124.70964980125427s\n"
     ]
    }
   ],
   "source": [
    "n_samples = len(X_train)\n",
    "n_features = len(vocab)\n",
    "no_dims = min(n_samples,n_features)\n",
    "start = time.time()\n",
    "pca = PCA(n_components=no_dims, random_state=28)\n",
    "X_train_dim_reduced = pca.fit_transform(X_train_idf)\n",
    "X_test_dim_reduced = pca.transform(X_test_idf)\n",
    "print(f\"Fit time: {time.time()-start}s\")"
   ]
  },
  {
   "cell_type": "code",
   "execution_count": 270,
   "metadata": {},
   "outputs": [
    {
     "data": {
      "text/plain": [
       "['data/X_test_dim_reduced.pkl']"
      ]
     },
     "execution_count": 270,
     "metadata": {},
     "output_type": "execute_result"
    }
   ],
   "source": [
    "joblib.dump(X_train_dim_reduced,\"data/X_train_dim_reduced.pkl\")\n",
    "joblib.dump(X_test_dim_reduced,\"data/X_test_dim_reduced.pkl\")"
   ]
  },
  {
   "cell_type": "code",
   "execution_count": 50,
   "metadata": {},
   "outputs": [
    {
     "name": "stdout",
     "output_type": "stream",
     "text": [
      "Expained variance: 0.8488584789572444\n",
      "Number of dimentions to explain 0.8 total variance: 981\n"
     ]
    }
   ],
   "source": [
    "threshold = 0.8\n",
    "print(f\"Expained variance: {np.cumsum(pca.explained_variance_)[-1]}\")\n",
    "print(f\"Number of dimentions to explain {threshold} total variance: {np.argmax(np.cumsum(pca.explained_variance_) > threshold)}\")"
   ]
  },
  {
   "cell_type": "code",
   "execution_count": 51,
   "metadata": {},
   "outputs": [],
   "source": [
    "class DimensionSelector(BaseEstimator,TransformerMixin):\n",
    "    \n",
    "    def __init__(self, num_dims=None):\n",
    "        self.num_dims = num_dims\n",
    "        \n",
    "    def fit(self, X, y=None):\n",
    "        return self\n",
    "    \n",
    "    def transform(self, X):\n",
    "        return X[...,:self.num_dims]"
   ]
  },
  {
   "cell_type": "code",
   "execution_count": 54,
   "metadata": {},
   "outputs": [
    {
     "name": "stdout",
     "output_type": "stream",
     "text": [
      "Model: GaussianNB, Best params: {'dim_select__num_dims': 97}\n",
      "acc:0.9489164086687306, f1_micro:0.9489164086687306, f1_weighted:0.9484676155713491\n",
      "\n",
      "Model: KNeighborsClassifier, Best params: {'dim_select__num_dims': 1938}\n",
      "acc:0.9592363261093911, f1_micro:0.9592363261093911, f1_weighted:0.9580465421594021\n",
      "\n",
      "Model: RandomForestClassifier, Best params: {'dim_select__num_dims': 253}\n",
      "acc:0.957688338493292, f1_micro:0.957688338493292, f1_weighted:0.95694662466677\n",
      "\n",
      "Model: SGDClassifier, Best params: {'dim_select__num_dims': 488}\n",
      "acc:0.977296181630547, f1_micro:0.977296181630547, f1_weighted:0.9767658746940895\n",
      "\n",
      "Model: LogisticRegression, Best params: {'dim_select__num_dims': 606}\n",
      "acc:0.9530443756449948, f1_micro:0.9530443756449948, f1_weighted:0.9495052936262306\n",
      "\n"
     ]
    }
   ],
   "source": [
    "scoring = {\"accuracy\":make_scorer(accuracy_score),\n",
    "           \"f1_weighted\":make_scorer(f1_score,average=\"weighted\"),\n",
    "           \"f1_micro\":make_scorer(f1_score,average=\"micro\")}\n",
    "\n",
    "models = [GaussianNB(), KNeighborsClassifier(), \n",
    "          RandomForestClassifier(), SGDClassifier(),\n",
    "          LogisticRegression()]\n",
    "\n",
    "n_samples = len(X_train)\n",
    "n_features = len(vocab)\n",
    "no_dims = min(n_samples,n_features)\n",
    "cv = 3\n",
    "step_size = 100\n",
    "params = [{\"dim_select__num_dims\":np.linspace(no_dims,no_dims//step_size,dtype=np.int)},\n",
    "         {\"dim_select__num_dims\":np.linspace(no_dims,no_dims//step_size,dtype=np.int)},\n",
    "         {\"dim_select__num_dims\":np.linspace(no_dims,no_dims//step_size,dtype=np.int)},\n",
    "         {\"dim_select__num_dims\":np.linspace(no_dims,no_dims//step_size,dtype=np.int)},\n",
    "         {\"dim_select__num_dims\":np.linspace(no_dims,no_dims//step_size,dtype=np.int)},]\n",
    "\n",
    "cv_results = {}\n",
    "\n",
    "for i, model in enumerate(models):\n",
    "    model_name = model.__class__.__name__\n",
    "    pipeline = Pipeline([(\"dim_select\",DimensionSelector()),(\"predictor\",model)])\n",
    "    gridcv = GridSearchCV(pipeline,param_grid=params[i],scoring=scoring,cv=cv,refit=\"accuracy\",return_train_score=True)\n",
    "    res = gridcv.fit(X_train_dim_reduced,y_train)\n",
    "    best_score_idx = np.argmax(res.cv_results_[\"mean_test_accuracy\"])\n",
    "    best_accuracy = res.cv_results_[\"mean_test_accuracy\"][best_score_idx]\n",
    "    best_f1_micro = res.cv_results_[\"mean_test_f1_micro\"][best_score_idx]\n",
    "    best_f1_weighted = res.cv_results_[\"mean_test_f1_weighted\"][best_score_idx]\n",
    "    cv_results[model_name] = res\n",
    "    print(f\"Model: {model_name}, Best params: {res.best_params_}\\nacc:{best_accuracy}, f1_micro:{best_f1_micro}, f1_weighted:{best_f1_weighted}\\n\")\n"
   ]
  },
  {
   "cell_type": "code",
   "execution_count": 89,
   "metadata": {},
   "outputs": [
    {
     "name": "stdout",
     "output_type": "stream",
     "text": [
      "GaussianNB Mean Score Time: 0.015824635823567707\n",
      "GaussianNB Mean Train Time: 0.037443955739339195\n",
      "KNeighborsClassifier Mean Score Time: 2.045650323232015\n",
      "KNeighborsClassifier Mean Train Time: 0.12410640716552734\n",
      "RandomForestClassifier Mean Score Time: 0.028568267822265625\n",
      "RandomForestClassifier Mean Train Time: 2.1498297850290933\n",
      "SGDClassifier Mean Score Time: 0.003428379694620768\n",
      "SGDClassifier Mean Train Time: 0.31776857376098633\n",
      "LogisticRegression Mean Score Time: 0.004302422205607097\n",
      "LogisticRegression Mean Train Time: 0.2878740628560384\n"
     ]
    }
   ],
   "source": [
    "for model in models:\n",
    "    model_name = model.__class__.__name__\n",
    "    best_score_idx = np.argmax(cv_results[model_name].cv_results_[\"mean_test_accuracy\"])\n",
    "    print(model_name,\"Mean Score Time:\",cv_results[model_name].cv_results_[\"mean_score_time\"][best_score_idx])\n",
    "    print(model_name,\"Mean Train Time:\",cv_results[model_name].cv_results_[\"mean_fit_time\"][best_score_idx])"
   ]
  },
  {
   "cell_type": "markdown",
   "metadata": {},
   "source": [
    "The warning shows that some of the labels in y_train are never predicted by model"
   ]
  },
  {
   "cell_type": "code",
   "execution_count": 55,
   "metadata": {},
   "outputs": [
    {
     "data": {
      "text/plain": [
       "['saved_models/cv_results.pkl']"
      ]
     },
     "execution_count": 55,
     "metadata": {},
     "output_type": "execute_result"
    }
   ],
   "source": [
    "joblib.dump(cv_results,\"saved_models/cv_results.pkl\")"
   ]
  },
  {
   "cell_type": "code",
   "execution_count": 92,
   "metadata": {},
   "outputs": [
    {
     "name": "stdout",
     "output_type": "stream",
     "text": [
      "Explained variance with 605 ndims: 0.724200108241405\n"
     ]
    }
   ],
   "source": [
    "ndims = 605\n",
    "final_model = LogisticRegression()\n",
    "print(f\"Explained variance with {ndims} ndims: {np.cumsum(pca.explained_variance_)[ndims]}\")"
   ]
  },
  {
   "cell_type": "code",
   "execution_count": 93,
   "metadata": {},
   "outputs": [],
   "source": [
    "probs = cross_val_predict(final_model,X_train_dim_reduced[:,:ndims],y_train,method=\"predict_proba\",cv=3)"
   ]
  },
  {
   "cell_type": "code",
   "execution_count": 94,
   "metadata": {},
   "outputs": [
    {
     "data": {
      "text/plain": [
       "(75582, 1938)"
      ]
     },
     "execution_count": 94,
     "metadata": {},
     "output_type": "execute_result"
    }
   ],
   "source": [
    "len(probs.nonzero()[0]), len(X_train)"
   ]
  },
  {
   "cell_type": "code",
   "execution_count": 95,
   "metadata": {},
   "outputs": [],
   "source": [
    "preds = np.argmax(probs,axis=1)"
   ]
  },
  {
   "cell_type": "code",
   "execution_count": 96,
   "metadata": {},
   "outputs": [
    {
     "data": {
      "image/png": "[encoded data removed]",
      "text/plain": [
       "<Figure size 576x576 with 1 Axes>"
      ]
     },
     "metadata": {
      "needs_background": "light"
     },
     "output_type": "display_data"
    }
   ],
   "source": [
    "conf_mx = confusion_matrix(y_train,y_pred=preds)\n",
    "fig = plt.figure(figsize=(8,8))\n",
    "ax = fig.add_subplot(111)\n",
    "ax.matshow(conf_mx, cmap=plt.cm.gray)\n",
    "ax.set_xticks(range(len(target_cats)))\n",
    "ax.set_yticks(range(len(target_cats)))\n",
    "plt.show()"
   ]
  },
  {
   "cell_type": "code",
   "execution_count": 97,
   "metadata": {},
   "outputs": [
    {
     "data": {
      "image/png": "[encoded data removed]",
      "text/plain": [
       "<Figure size 576x576 with 1 Axes>"
      ]
     },
     "metadata": {
      "needs_background": "light"
     },
     "output_type": "display_data"
    },
    {
     "data": {
      "text/plain": [
       "[(0, 'اتو و حالت دهنده ی مو', 49),\n",
       " (1, 'اصلاح موی صورت', 55),\n",
       " (2, 'باتری استاندارد', 17),\n",
       " (3, 'برنج', 30),\n",
       " (4, 'تبلت', 96),\n",
       " (5, 'تجهیزات جانبی ایروبیک و تناسب اندام', 62),\n",
       " (6, 'توپ', 26),\n",
       " (7, 'خودکار و روان نویس', 44),\n",
       " (8, 'دفتر', 33),\n",
       " (9, 'دوربین عکاسی', 32),\n",
       " (10, 'روغن', 38),\n",
       " (11, 'روغن موتور', 53),\n",
       " (12, 'ریمل', 22),\n",
       " (13, 'ساعت هوشمند', 48),\n",
       " (14, 'ست لباس راحتی پسرانه', 20),\n",
       " (15, 'شامپو کودک و نوزاد', 19),\n",
       " (16, 'شیرآلات', 23),\n",
       " (17, 'قفل', 79),\n",
       " (18, 'قمقمه و فلاسک', 91),\n",
       " (19, 'لپ تاپ و الترابوک', 176),\n",
       " (20, 'ماست', 24),\n",
       " (21, 'ماشین حساب', 41),\n",
       " (22, 'مداد', 57),\n",
       " (23, 'میکروفون حرفه\\u200cای', 35),\n",
       " (24, 'هدفون، هدست و هندزفری', 131),\n",
       " (25, 'پاوربانک (شارژر همراه)', 116),\n",
       " (26, 'پایه نگهدارنده گوشی و تبلت', 17),\n",
       " (27, 'پنیر', 22),\n",
       " (28, 'پوشک کودک و نوزاد', 25),\n",
       " (29, 'چاقوی سفر و ابزار چند کاره', 50),\n",
       " (30, 'چندراهی برق و محافظ ولتاژ', 49),\n",
       " (31, 'کابل و مبدل', 22),\n",
       " (32, 'کارت حافظه', 18),\n",
       " (33, 'کتاب چاپی', 74),\n",
       " (34, 'کرم ضد آفتاب', 28),\n",
       " (35, 'کرم، بالم و لوسیون کودک و نوزاد', 17),\n",
       " (36, 'کیف و کاور گوشی', 26),\n",
       " (37, 'کیف و کوله', 52),\n",
       " (38, 'گوشی موبایل', 121)]"
      ]
     },
     "execution_count": 97,
     "metadata": {},
     "output_type": "execute_result"
    }
   ],
   "source": [
    "row_sums = conf_mx.sum(axis=1, keepdims=True) \n",
    "norm_conf_mx = conf_mx / row_sums\n",
    "np.fill_diagonal(norm_conf_mx,0)\n",
    "fig = plt.figure(figsize=(8,8))\n",
    "ax = fig.add_subplot(111)\n",
    "ax.matshow(norm_conf_mx, cmap=plt.cm.gray)\n",
    "ax.set_xticks(range(len(target_cats)))\n",
    "ax.set_yticks(range(len(target_cats)))\n",
    "plt.show()\n",
    "item_instances = [x[1] for x in sorted(Counter(y_train).items())]\n",
    "list(zip(range(len(target_cats)),le.classes_,item_instances))"
   ]
  },
  {
   "cell_type": "code",
   "execution_count": 98,
   "metadata": {},
   "outputs": [
    {
     "data": {
      "image/png": "[encoded data removed]",
      "text/plain": [
       "<Figure size 1080x360 with 1 Axes>"
      ]
     },
     "metadata": {
      "needs_background": "light"
     },
     "output_type": "display_data"
    }
   ],
   "source": [
    "t = pd.DataFrame({\"summary\":X_train.values, \"summary_len\":X_train.apply(lambda s:len(s.split())).values},index=X_train.index)\n",
    "num_bins = 20\n",
    "\n",
    "bin_intervals = np.linspace(t[\"summary_len\"].min(),t[\"summary_len\"].max(),num=num_bins+1)\n",
    "bin_labels = [int((bin_intervals[i] + bin_intervals[i+1]) / 2) for i in range(len(bin_intervals) - 1)]\n",
    "\n",
    "t[\"bin\"] = pd.cut(t[\"summary_len\"],bins=num_bins,labels=bin_labels)\n",
    "t.reset_index(inplace=True)\n",
    "\n",
    "t_gb_bin = t.groupby(\"bin\").apply(lambda x: x.index)\n",
    "\n",
    "match = preds == y_train\n",
    "match_per_length = t_gb_bin.apply(lambda indices: (match[indices].sum(), len(indices) - match[indices].sum()))\n",
    "match_per_length = pd.DataFrame({\"T\":match_per_length.apply(lambda x: x[0]),\"F\":match_per_length.apply(lambda x: x[1])})\n",
    "\n",
    "fig = plt.figure(figsize=(15,5))\n",
    "(match_per_length[\"T\"]).plot.bar(label=\"True preds\",color=\"#03b5fc\")\n",
    "(match_per_length[\"F\"]).plot.bar(label=\"False preds\",color=\"r\")\n",
    "plt.legend()\n",
    "plt.show()"
   ]
  },
  {
   "cell_type": "code",
   "execution_count": 99,
   "metadata": {},
   "outputs": [
    {
     "name": "stdout",
     "output_type": "stream",
     "text": [
      "File size: 0.19MB\n",
      "Fit time: 0.36s\n"
     ]
    }
   ],
   "source": [
    "start = time.time()\n",
    "model = final_model\n",
    "model.fit(X_train_dim_reduced[:,:ndims], y_train)\n",
    "joblib.dump(model,f\"saved_models/{model.__class__.__name__}.pkl\")\n",
    "print(f\"File size: {os.path.getsize(f'saved_models/{model.__class__.__name__}.pkl')*1e-6:.2f}MB\")\n",
    "print(f\"Fit time: {time.time() - start:.2f}s\")"
   ]
  },
  {
   "cell_type": "code",
   "execution_count": 100,
   "metadata": {},
   "outputs": [],
   "source": [
    "def recommend(text,model,pca=None,ndims=None):\n",
    "    x = tfidf.transform([text]).toarray()\n",
    "    if pca:\n",
    "        x = pca.transform(x)[:,:ndims]\n",
    "#     pred = model.predict(x)\n",
    "    scores = model.predict_proba(x)[0]   \n",
    "#     print(sorted(scores,reverse=True))\n",
    "    cats = np.nonzero(np.isclose(scores,scores.max(),atol=0,rtol=.5))\n",
    "    return le.inverse_transform(cats[-1])"
   ]
  },
  {
   "cell_type": "code",
   "execution_count": 101,
   "metadata": {},
   "outputs": [
    {
     "data": {
      "text/plain": [
       "array(['هدفون، هدست و هندزفری'], dtype=object)"
      ]
     },
     "execution_count": 101,
     "metadata": {},
     "output_type": "execute_result"
    }
   ],
   "source": [
    "s=\"\"\"\n",
    "تبلتی مناسب است برای همه قشر هازیرا هم برای بازی خوب هستهم وزن سبک مناسبی داردولی از نظر بنده دو بدی داردیکی نداشتن قلم همراهیکی هم فقط بلندگو داردیعنی اگر میخواهید باهاش صحبت کنید در یک جمع عمومی باید حتما هندزفری داشته باشیدبه نظرم مناسب بود شرکت سامسونگ یک هندزفری level همراهش میذاشت\n",
    "\"\"\"\n",
    "recommend(s,model,pca,ndims=ndims)\n"
   ]
  },
  {
   "cell_type": "markdown",
   "metadata": {},
   "source": [
    "We can use probability values and a threshold to recommend multiple categories instead of recommending just the category with highest probability."
   ]
  },
  {
   "cell_type": "code",
   "execution_count": 102,
   "metadata": {},
   "outputs": [
    {
     "name": "stdout",
     "output_type": "stream",
     "text": [
      "234 ms ± 34.3 ms per loop (mean ± std. dev. of 7 runs, 1 loop each)\n"
     ]
    }
   ],
   "source": [
    "%%timeit\n",
    "s = \"از ایام قدیم تا قرن ۱۸ میلادی، قدیمی‌ترین شکل قفل، قفلی است که در ویرانه‌های خرساباد نزدیکی نینوا، پیدا شده‌است و حدود ۴ هزار سال قدمت دارد. این قفل چوبی است و چند میله چوبی قابل حرکت دارد که در سوراخ‌هایی مناسب روی کلون می‌افتند و کلون را در وضعیت بسته نگه می‌دارند. کلید آن هم چوبی است و میله‌هایی دارد و می‌توان آن را در شیاری در کلون داخل کرد.\"\n",
    "recommend(s,model,pca,ndims)\n"
   ]
  },
  {
   "cell_type": "markdown",
   "metadata": {},
   "source": [
    "## Validation on Testset"
   ]
  },
  {
   "cell_type": "code",
   "execution_count": 103,
   "metadata": {},
   "outputs": [
    {
     "name": "stdout",
     "output_type": "stream",
     "text": [
      "accuracy:0.9628865979381444\n",
      "f1_micro:0.9628865979381444\n",
      "f1_weighted:0.9628865979381444\n",
      "precision_micro:0.9628865979381444\n",
      "precision_weighted:0.9628865979381444\n",
      "recall_micro:0.9628865979381444,\n",
      "recall_weighted:0.9628865979381444\n"
     ]
    }
   ],
   "source": [
    "test_preds = final_model.predict(X_test_dim_reduced[:,:ndims])\n",
    "(accuracy, f1_micro, f1_weighted ,precision_micro,precision_weighted, recall_micro,recall_weighted) = clf_metrics_values(test_preds,y_test)\n",
    "print(f\"accuracy:{accuracy}\\nf1_micro:{f1_micro}\\nf1_weighted:{f1_weighted}\\nprecision_micro:{precision_micro}\\nprecision_weighted:{precision_weighted}\\nrecall_micro:{recall_micro},\\nrecall_weighted:{recall_weighted}\")\n"
   ]
  },
  {
   "cell_type": "markdown",
   "metadata": {},
   "source": [
    "## Validation on Wikipedia Data"
   ]
  },
  {
   "cell_type": "code",
   "execution_count": 104,
   "metadata": {},
   "outputs": [],
   "source": [
    "wiki_valid_data = {}\n",
    "wikiscrapper_outdir = Path(\"wikiscrapper/outdir/\")\n",
    "for category in wikiscrapper_outdir.glob(\"*\"):\n",
    "    cat_name = category.stem\n",
    "    with open(category,\"r\") as f:\n",
    "        data = f.readlines()\n",
    "    concatenated = \"\\n\".join(data)\n",
    "    wiki_valid_data[cat_name] = concatenated"
   ]
  },
  {
   "cell_type": "code",
   "execution_count": 105,
   "metadata": {},
   "outputs": [
    {
     "name": "stdout",
     "output_type": "stream",
     "text": [
      "پنیر with 4 samples\n",
      "accuracy:0.50\n",
      "\n",
      "دفتر with 11 samples\n",
      "accuracy:0.64\n",
      "\n",
      "برنج with 35 samples\n",
      "accuracy:0.49\n",
      "\n",
      "دوربین عکاسی with 8 samples\n",
      "accuracy:0.25\n",
      "\n",
      "ریمل with 2 samples\n",
      "accuracy:0.50\n",
      "\n",
      "مداد with 6 samples\n",
      "accuracy:0.83\n",
      "\n",
      "کارت حافظه with 1 samples\n",
      "accuracy:1.00\n",
      "\n",
      "توپ with 1 samples\n",
      "accuracy:1.00\n",
      "\n",
      "ماست with 11 samples\n",
      "accuracy:0.73\n",
      "\n",
      "قفل with 13 samples\n",
      "accuracy:0.92\n",
      "\n",
      "ساعت هوشمند with 4 samples\n",
      "accuracy:0.75\n",
      "\n",
      "روغن موتور with 4 samples\n",
      "accuracy:1.00\n",
      "\n",
      "تبلت with 8 samples\n",
      "accuracy:0.88\n",
      "\n",
      "روغن with 30 samples\n",
      "accuracy:0.90\n",
      "\n",
      "گوشی موبایل with 24 samples\n",
      "accuracy:0.21\n",
      "\n",
      "ماشین حساب with 10 samples\n",
      "accuracy:0.80\n",
      "\n"
     ]
    }
   ],
   "source": [
    "window_size = 100\n",
    "for catname,validation in wiki_valid_data.items():\n",
    "    label = le.transform([catname])[0]\n",
    "    words = validation.split()\n",
    "    no_window = len(words) // window_size\n",
    "    preds = []\n",
    "    for i in range(no_window):\n",
    "        window = \" \".join(words[i*window_size:(i+1)*window_size])\n",
    "        window_tfidf = tfidf.transform([window]).toarray()\n",
    "        window_dim_reduced = pca.transform(window_tfidf)\n",
    "        window_preds = model.predict(window_dim_reduced[:,:ndims])\n",
    "        preds.extend(window_preds)\n",
    "        \n",
    "    last_window = \" \".join(words[no_window*window_size:])\n",
    "    last_window_tfidf = tfidf.transform([last_window]).toarray()\n",
    "    last_window_dim_reduced = pca.transform(last_window_tfidf)\n",
    "    last_window_preds = model.predict(last_window_dim_reduced[:,:ndims])\n",
    "    preds.extend(last_window_preds)\n",
    "    targets = np.repeat(label,len(preds))\n",
    "    \n",
    "    print(f\"{catname} with {no_window+1} samples\")\n",
    "    (accuracy, _, _, _, _, _, _) = clf_metrics_values(preds,targets)\n",
    "    print(f\"accuracy:{accuracy:.2f}\\n\")        "
   ]
  },
  {
   "cell_type": "markdown",
   "metadata": {},
   "source": [
    "## Furthur Works"
   ]
  },
  {
   "cell_type": "markdown",
   "metadata": {},
   "source": [
    "HashingVectorizer\n",
    "<br>\n",
    "ngrams\n",
    "<br>\n",
    "NN\n",
    "<br>\n",
    "hyperparameter tuning"
   ]
  },
  {
   "cell_type": "code",
   "execution_count": null,
   "metadata": {},
   "outputs": [],
   "source": []
  }
 ],
 "metadata": {
  "kernelspec": {
   "display_name": "base",
   "language": "python",
   "name": "base"
  },
  "language_info": {
   "codemirror_mode": {
    "name": "ipython",
    "version": 3
   },
   "file_extension": ".py",
   "mimetype": "text/x-python",
   "name": "python",
   "nbconvert_exporter": "python",
   "pygments_lexer": "ipython3",
   "version": "3.6.10"
  }
 },
 "nbformat": 4,
 "nbformat_minor": 4
}
