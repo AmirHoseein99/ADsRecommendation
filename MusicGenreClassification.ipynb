{
  "nbformat": 4,
  "nbformat_minor": 0,
  "metadata": {
    "colab": {
      "name": "MusicGenreClassification.ipynb",
      "provenance": [],
      "collapsed_sections": [],
      "mount_file_id": "1BwqEBMu5ygRE24gI6i7UM99B_EPAyorQ",
      "authorship_tag": "ABX9TyPvT0L9cPYPvUoh+Dt8F9rt",
      "include_colab_link": true
    },
    "kernelspec": {
      "name": "python3",
      "display_name": "Python 3"
    },
    "language_info": {
      "name": "python"
    },
    "accelerator": "GPU"
  },
  "cells": [
    {
      "cell_type": "markdown",
      "metadata": {
        "id": "view-in-github",
        "colab_type": "text"
      },
      "source": [
        "<a href=\"https://colab.research.google.com/github/AmirHoseein99/ADsRecommendation/blob/master/MusicGenreClassification.ipynb\" target=\"_parent\"><img src=\"https://colab.research.google.com/assets/colab-badge.svg\" alt=\"Open In Colab\"/></a>"
      ]
    },
    {
      "cell_type": "code",
      "execution_count": 1,
      "metadata": {
        "id": "RlQuzX_Fm3A7"
      },
      "outputs": [],
      "source": [
        "import pandas as pd\n",
        "import numpy as np\n",
        "from matplotlib import pyplot as plt\n",
        "import tensorflow as tf\n",
        "from tensorflow import keras "
      ]
    },
    {
      "cell_type": "code",
      "source": [
        "! wget \"https://storage.googleapis.com/kaggle-competitions-data/kaggle-v2/26781/2093808/bundle/archive.zip?GoogleAccessId=web-data@kaggle-161607.iam.gserviceaccount.com&Expires=1640108237&Signature=I5i5ehVSb7cGEMuM2nWdxvwYls%2BbotbsLIudzDySpTlTulkcAwYerPVe0iyRXb6WLaidoLkXnckkfs8K1usg9CUccKrDGTnoWTuYnvuMnZNZo%2BDdJIeysjdm6Fg3j%2Bbx9iqtHjL7robZuBtetdXUK1%2BiPzdTuK1skovt7zzTks%2By2NNDZpA0YaDKd3R8srXgUFIPPjJChCIdiHHd%2BuGenBR%2BAtgEd5VD4WQOC5mIE%2BEUaOkhvBYrVDHTyxOUXNDwwt4yhWGT0U6ilCwPyClf1GBIWANIm71Tt3FnTKyIv6imRBeBpi5lb1gelsoC5lvwU7PAqm3OyksWFax%2FTtGdAA%3D%3D&response-content-disposition=attachment%3B+filename%3Drnn-competition-2020-2021.zip\""
      ],
      "metadata": {
        "id": "TsvkNoBGnGYG"
      },
      "execution_count": null,
      "outputs": []
    },
    {
      "cell_type": "code",
      "source": [
        "!unzip \"/content/archive.zip?GoogleAccessId=web-data@kaggle-161607.iam.gserviceaccount.com&Expires=1640108237&Signature=I5i5ehVSb7cGEMuM2nWdxvwYls+botbsLIudzDySpTlTulkcAwYerPVe0iyRXb6WLaidoLkXnckkfs8K1usg9CUccKrDGTnoWTuYnvuMnZNZo+DdJIeysjdm6Fg3j+bx9iqtH\""
      ],
      "metadata": {
        "id": "n2erde0mntId"
      },
      "execution_count": null,
      "outputs": []
    },
    {
      "cell_type": "code",
      "source": [
        "train_ds = pd.read_csv(\"/content/train.csv\")\n",
        "train_ds.columns = [\"lyric\", \"target\"]\n",
        "test_ds = pd.read_csv(\"/content/test.csv\")\n",
        "test_ds = test_ds.drop([\"id\"], axis=1)"
      ],
      "metadata": {
        "id": "BeXRgznInzY7"
      },
      "execution_count": 5,
      "outputs": []
    },
    {
      "cell_type": "code",
      "source": [
        "train_ds.head()"
      ],
      "metadata": {
        "colab": {
          "base_uri": "https://localhost:8080/",
          "height": 206
        },
        "id": "HXjXRwB0oRfi",
        "outputId": "e2c1b177-f6a6-49fb-e7a4-5f26bf8fca37"
      },
      "execution_count": 6,
      "outputs": [
        {
          "output_type": "execute_result",
          "data": {
            "text/html": [
              "\n",
              "  <div id=\"df-afae9122-7e36-4146-8eb5-20fc171c1f7d\">\n",
              "    <div class=\"colab-df-container\">\n",
              "      <div>\n",
              "<style scoped>\n",
              "    .dataframe tbody tr th:only-of-type {\n",
              "        vertical-align: middle;\n",
              "    }\n",
              "\n",
              "    .dataframe tbody tr th {\n",
              "        vertical-align: top;\n",
              "    }\n",
              "\n",
              "    .dataframe thead th {\n",
              "        text-align: right;\n",
              "    }\n",
              "</style>\n",
              "<table border=\"1\" class=\"dataframe\">\n",
              "  <thead>\n",
              "    <tr style=\"text-align: right;\">\n",
              "      <th></th>\n",
              "      <th>lyric</th>\n",
              "      <th>target</th>\n",
              "    </tr>\n",
              "  </thead>\n",
              "  <tbody>\n",
              "    <tr>\n",
              "      <th>0</th>\n",
              "      <td>Can't drink without thinkin' about you</td>\n",
              "      <td>1</td>\n",
              "    </tr>\n",
              "    <tr>\n",
              "      <th>1</th>\n",
              "      <td>Now Lil Pump flyin' private jet (Yuh)</td>\n",
              "      <td>0</td>\n",
              "    </tr>\n",
              "    <tr>\n",
              "      <th>2</th>\n",
              "      <td>No, matter fact, you ain't help me when I had ...</td>\n",
              "      <td>0</td>\n",
              "    </tr>\n",
              "    <tr>\n",
              "      <th>3</th>\n",
              "      <td>And you could find me, I ain't hidin'</td>\n",
              "      <td>0</td>\n",
              "    </tr>\n",
              "    <tr>\n",
              "      <th>4</th>\n",
              "      <td>From the way you talk to the way you move</td>\n",
              "      <td>1</td>\n",
              "    </tr>\n",
              "  </tbody>\n",
              "</table>\n",
              "</div>\n",
              "      <button class=\"colab-df-convert\" onclick=\"convertToInteractive('df-afae9122-7e36-4146-8eb5-20fc171c1f7d')\"\n",
              "              title=\"Convert this dataframe to an interactive table.\"\n",
              "              style=\"display:none;\">\n",
              "        \n",
              "  <svg xmlns=\"http://www.w3.org/2000/svg\" height=\"24px\"viewBox=\"0 0 24 24\"\n",
              "       width=\"24px\">\n",
              "    <path d=\"M0 0h24v24H0V0z\" fill=\"none\"/>\n",
              "    <path d=\"M18.56 5.44l.94 2.06.94-2.06 2.06-.94-2.06-.94-.94-2.06-.94 2.06-2.06.94zm-11 1L8.5 8.5l.94-2.06 2.06-.94-2.06-.94L8.5 2.5l-.94 2.06-2.06.94zm10 10l.94 2.06.94-2.06 2.06-.94-2.06-.94-.94-2.06-.94 2.06-2.06.94z\"/><path d=\"M17.41 7.96l-1.37-1.37c-.4-.4-.92-.59-1.43-.59-.52 0-1.04.2-1.43.59L10.3 9.45l-7.72 7.72c-.78.78-.78 2.05 0 2.83L4 21.41c.39.39.9.59 1.41.59.51 0 1.02-.2 1.41-.59l7.78-7.78 2.81-2.81c.8-.78.8-2.07 0-2.86zM5.41 20L4 18.59l7.72-7.72 1.47 1.35L5.41 20z\"/>\n",
              "  </svg>\n",
              "      </button>\n",
              "      \n",
              "  <style>\n",
              "    .colab-df-container {\n",
              "      display:flex;\n",
              "      flex-wrap:wrap;\n",
              "      gap: 12px;\n",
              "    }\n",
              "\n",
              "    .colab-df-convert {\n",
              "      background-color: #E8F0FE;\n",
              "      border: none;\n",
              "      border-radius: 50%;\n",
              "      cursor: pointer;\n",
              "      display: none;\n",
              "      fill: #1967D2;\n",
              "      height: 32px;\n",
              "      padding: 0 0 0 0;\n",
              "      width: 32px;\n",
              "    }\n",
              "\n",
              "    .colab-df-convert:hover {\n",
              "      background-color: #E2EBFA;\n",
              "      box-shadow: 0px 1px 2px rgba(60, 64, 67, 0.3), 0px 1px 3px 1px rgba(60, 64, 67, 0.15);\n",
              "      fill: #174EA6;\n",
              "    }\n",
              "\n",
              "    [theme=dark] .colab-df-convert {\n",
              "      background-color: #3B4455;\n",
              "      fill: #D2E3FC;\n",
              "    }\n",
              "\n",
              "    [theme=dark] .colab-df-convert:hover {\n",
              "      background-color: #434B5C;\n",
              "      box-shadow: 0px 1px 3px 1px rgba(0, 0, 0, 0.15);\n",
              "      filter: drop-shadow(0px 1px 2px rgba(0, 0, 0, 0.3));\n",
              "      fill: #FFFFFF;\n",
              "    }\n",
              "  </style>\n",
              "\n",
              "      <script>\n",
              "        const buttonEl =\n",
              "          document.querySelector('#df-afae9122-7e36-4146-8eb5-20fc171c1f7d button.colab-df-convert');\n",
              "        buttonEl.style.display =\n",
              "          google.colab.kernel.accessAllowed ? 'block' : 'none';\n",
              "\n",
              "        async function convertToInteractive(key) {\n",
              "          const element = document.querySelector('#df-afae9122-7e36-4146-8eb5-20fc171c1f7d');\n",
              "          const dataTable =\n",
              "            await google.colab.kernel.invokeFunction('convertToInteractive',\n",
              "                                                     [key], {});\n",
              "          if (!dataTable) return;\n",
              "\n",
              "          const docLinkHtml = 'Like what you see? Visit the ' +\n",
              "            '<a target=\"_blank\" href=https://colab.research.google.com/notebooks/data_table.ipynb>data table notebook</a>'\n",
              "            + ' to learn more about interactive tables.';\n",
              "          element.innerHTML = '';\n",
              "          dataTable['output_type'] = 'display_data';\n",
              "          await google.colab.output.renderOutput(dataTable, element);\n",
              "          const docLink = document.createElement('div');\n",
              "          docLink.innerHTML = docLinkHtml;\n",
              "          element.appendChild(docLink);\n",
              "        }\n",
              "      </script>\n",
              "    </div>\n",
              "  </div>\n",
              "  "
            ],
            "text/plain": [
              "                                               lyric  target\n",
              "0             Can't drink without thinkin' about you       1\n",
              "1              Now Lil Pump flyin' private jet (Yuh)       0\n",
              "2  No, matter fact, you ain't help me when I had ...       0\n",
              "3              And you could find me, I ain't hidin'       0\n",
              "4          From the way you talk to the way you move       1"
            ]
          },
          "metadata": {},
          "execution_count": 6
        }
      ]
    },
    {
      "cell_type": "code",
      "source": [
        "lyric = train_ds.lyric.to_numpy()\n",
        "targets = train_ds.target.to_numpy()"
      ],
      "metadata": {
        "id": "p6oKotuftHRf"
      },
      "execution_count": 62,
      "outputs": []
    },
    {
      "cell_type": "code",
      "source": [
        "_ = plt.hist(targets)"
      ],
      "metadata": {
        "colab": {
          "base_uri": "https://localhost:8080/",
          "height": 267
        },
        "id": "9Vxx0Ncjor2Y",
        "outputId": "0ae7de49-03ad-43b1-b419-4e83e781334b"
      },
      "execution_count": 8,
      "outputs": [
        {
          "output_type": "display_data",
          "data": {
            "image/png": "[encoded data removed]",
            "text/plain": [
              "<Figure size 432x288 with 1 Axes>"
            ]
          },
          "metadata": {
            "needs_background": "light"
          }
        }
      ]
    },
    {
      "cell_type": "code",
      "source": [
        "from keras.preprocessing.text import Tokenizer\n",
        "lyrics_tokens = Tokenizer()\n",
        "lyrics_tokens.fit_on_texts(lyric)\n",
        "encoded_lyric = np.array(lyrics_tokens.texts_to_sequences(lyric), dtype=object)\n",
        "word_index = lyrics_tokens.word_index\n",
        "vocab_size = len(word_index)"
      ],
      "metadata": {
        "id": "_5cKEw6K6zQO"
      },
      "execution_count": 63,
      "outputs": []
    },
    {
      "cell_type": "code",
      "source": [
        "lengths=[]\n",
        "for k in range(len(encoded_lyric)):\n",
        "  lengths.append(len(encoded_lyric[k]))"
      ],
      "metadata": {
        "id": "ny0agYCq7aSF"
      },
      "execution_count": 10,
      "outputs": []
    },
    {
      "cell_type": "code",
      "source": [
        "pd.DataFrame(lengths, columns=['Lenghts']).describe()"
      ],
      "metadata": {
        "colab": {
          "base_uri": "https://localhost:8080/",
          "height": 300
        },
        "id": "vjdJyJeH7aOe",
        "outputId": "4efe61ea-eb1d-4cd4-f602-410aec504cca"
      },
      "execution_count": 11,
      "outputs": [
        {
          "output_type": "execute_result",
          "data": {
            "text/html": [
              "\n",
              "  <div id=\"df-25f4ab34-858d-4ad2-a774-c5b08a87c9b8\">\n",
              "    <div class=\"colab-df-container\">\n",
              "      <div>\n",
              "<style scoped>\n",
              "    .dataframe tbody tr th:only-of-type {\n",
              "        vertical-align: middle;\n",
              "    }\n",
              "\n",
              "    .dataframe tbody tr th {\n",
              "        vertical-align: top;\n",
              "    }\n",
              "\n",
              "    .dataframe thead th {\n",
              "        text-align: right;\n",
              "    }\n",
              "</style>\n",
              "<table border=\"1\" class=\"dataframe\">\n",
              "  <thead>\n",
              "    <tr style=\"text-align: right;\">\n",
              "      <th></th>\n",
              "      <th>Lenghts</th>\n",
              "    </tr>\n",
              "  </thead>\n",
              "  <tbody>\n",
              "    <tr>\n",
              "      <th>count</th>\n",
              "      <td>51054.000000</td>\n",
              "    </tr>\n",
              "    <tr>\n",
              "      <th>mean</th>\n",
              "      <td>8.236495</td>\n",
              "    </tr>\n",
              "    <tr>\n",
              "      <th>std</th>\n",
              "      <td>2.942687</td>\n",
              "    </tr>\n",
              "    <tr>\n",
              "      <th>min</th>\n",
              "      <td>1.000000</td>\n",
              "    </tr>\n",
              "    <tr>\n",
              "      <th>25%</th>\n",
              "      <td>6.000000</td>\n",
              "    </tr>\n",
              "    <tr>\n",
              "      <th>50%</th>\n",
              "      <td>8.000000</td>\n",
              "    </tr>\n",
              "    <tr>\n",
              "      <th>75%</th>\n",
              "      <td>10.000000</td>\n",
              "    </tr>\n",
              "    <tr>\n",
              "      <th>max</th>\n",
              "      <td>74.000000</td>\n",
              "    </tr>\n",
              "  </tbody>\n",
              "</table>\n",
              "</div>\n",
              "      <button class=\"colab-df-convert\" onclick=\"convertToInteractive('df-25f4ab34-858d-4ad2-a774-c5b08a87c9b8')\"\n",
              "              title=\"Convert this dataframe to an interactive table.\"\n",
              "              style=\"display:none;\">\n",
              "        \n",
              "  <svg xmlns=\"http://www.w3.org/2000/svg\" height=\"24px\"viewBox=\"0 0 24 24\"\n",
              "       width=\"24px\">\n",
              "    <path d=\"M0 0h24v24H0V0z\" fill=\"none\"/>\n",
              "    <path d=\"M18.56 5.44l.94 2.06.94-2.06 2.06-.94-2.06-.94-.94-2.06-.94 2.06-2.06.94zm-11 1L8.5 8.5l.94-2.06 2.06-.94-2.06-.94L8.5 2.5l-.94 2.06-2.06.94zm10 10l.94 2.06.94-2.06 2.06-.94-2.06-.94-.94-2.06-.94 2.06-2.06.94z\"/><path d=\"M17.41 7.96l-1.37-1.37c-.4-.4-.92-.59-1.43-.59-.52 0-1.04.2-1.43.59L10.3 9.45l-7.72 7.72c-.78.78-.78 2.05 0 2.83L4 21.41c.39.39.9.59 1.41.59.51 0 1.02-.2 1.41-.59l7.78-7.78 2.81-2.81c.8-.78.8-2.07 0-2.86zM5.41 20L4 18.59l7.72-7.72 1.47 1.35L5.41 20z\"/>\n",
              "  </svg>\n",
              "      </button>\n",
              "      \n",
              "  <style>\n",
              "    .colab-df-container {\n",
              "      display:flex;\n",
              "      flex-wrap:wrap;\n",
              "      gap: 12px;\n",
              "    }\n",
              "\n",
              "    .colab-df-convert {\n",
              "      background-color: #E8F0FE;\n",
              "      border: none;\n",
              "      border-radius: 50%;\n",
              "      cursor: pointer;\n",
              "      display: none;\n",
              "      fill: #1967D2;\n",
              "      height: 32px;\n",
              "      padding: 0 0 0 0;\n",
              "      width: 32px;\n",
              "    }\n",
              "\n",
              "    .colab-df-convert:hover {\n",
              "      background-color: #E2EBFA;\n",
              "      box-shadow: 0px 1px 2px rgba(60, 64, 67, 0.3), 0px 1px 3px 1px rgba(60, 64, 67, 0.15);\n",
              "      fill: #174EA6;\n",
              "    }\n",
              "\n",
              "    [theme=dark] .colab-df-convert {\n",
              "      background-color: #3B4455;\n",
              "      fill: #D2E3FC;\n",
              "    }\n",
              "\n",
              "    [theme=dark] .colab-df-convert:hover {\n",
              "      background-color: #434B5C;\n",
              "      box-shadow: 0px 1px 3px 1px rgba(0, 0, 0, 0.15);\n",
              "      filter: drop-shadow(0px 1px 2px rgba(0, 0, 0, 0.3));\n",
              "      fill: #FFFFFF;\n",
              "    }\n",
              "  </style>\n",
              "\n",
              "      <script>\n",
              "        const buttonEl =\n",
              "          document.querySelector('#df-25f4ab34-858d-4ad2-a774-c5b08a87c9b8 button.colab-df-convert');\n",
              "        buttonEl.style.display =\n",
              "          google.colab.kernel.accessAllowed ? 'block' : 'none';\n",
              "\n",
              "        async function convertToInteractive(key) {\n",
              "          const element = document.querySelector('#df-25f4ab34-858d-4ad2-a774-c5b08a87c9b8');\n",
              "          const dataTable =\n",
              "            await google.colab.kernel.invokeFunction('convertToInteractive',\n",
              "                                                     [key], {});\n",
              "          if (!dataTable) return;\n",
              "\n",
              "          const docLinkHtml = 'Like what you see? Visit the ' +\n",
              "            '<a target=\"_blank\" href=https://colab.research.google.com/notebooks/data_table.ipynb>data table notebook</a>'\n",
              "            + ' to learn more about interactive tables.';\n",
              "          element.innerHTML = '';\n",
              "          dataTable['output_type'] = 'display_data';\n",
              "          await google.colab.output.renderOutput(dataTable, element);\n",
              "          const docLink = document.createElement('div');\n",
              "          docLink.innerHTML = docLinkHtml;\n",
              "          element.appendChild(docLink);\n",
              "        }\n",
              "      </script>\n",
              "    </div>\n",
              "  </div>\n",
              "  "
            ],
            "text/plain": [
              "            Lenghts\n",
              "count  51054.000000\n",
              "mean       8.236495\n",
              "std        2.942687\n",
              "min        1.000000\n",
              "25%        6.000000\n",
              "50%        8.000000\n",
              "75%       10.000000\n",
              "max       74.000000"
            ]
          },
          "metadata": {},
          "execution_count": 11
        }
      ]
    },
    {
      "cell_type": "code",
      "source": [
        "plt.figure(figsize=(22, 5))\n",
        "plt.hist(lengths, bins=100)\n",
        "plt.show()"
      ],
      "metadata": {
        "colab": {
          "base_uri": "https://localhost:8080/",
          "height": 315
        },
        "id": "VElnrXBt7ySB",
        "outputId": "d1ef7d6d-f9b8-4849-8282-923d5357c6ae"
      },
      "execution_count": 12,
      "outputs": [
        {
          "output_type": "display_data",
          "data": {
            "image/png": "[encoded data removed]",
            "text/plain": [
              "<Figure size 1584x360 with 1 Axes>"
            ]
          },
          "metadata": {
            "needs_background": "light"
          }
        }
      ]
    },
    {
      "cell_type": "code",
      "source": [
        "from keras.preprocessing.sequence import pad_sequences\n",
        "max_length = 20\n",
        "trunc_type = 'post'\n",
        "padding_type = 'post'\n",
        "lyrics_padded = pad_sequences(encoded_lyric, maxlen=max_length, padding=padding_type, truncating=trunc_type)"
      ],
      "metadata": {
        "id": "JaV9yRuM7yPH"
      },
      "execution_count": 68,
      "outputs": []
    },
    {
      "cell_type": "code",
      "source": [
        "print(len(encoded_lyric[0]))\n",
        "print(len(lyrics_padded[0]))\n",
        "\n",
        "\n",
        "print(len(encoded_lyric[1]))\n",
        "print(len(lyrics_padded[1]))\n",
        "\n",
        "print(len(encoded_lyric[10]))\n",
        "print(len(lyrics_padded[10]))"
      ],
      "metadata": {
        "colab": {
          "base_uri": "https://localhost:8080/"
        },
        "id": "fWhlAHIa7yM-",
        "outputId": "67059f42-f5a0-48d0-e7d6-35bd9853fa63"
      },
      "execution_count": 69,
      "outputs": [
        {
          "output_type": "stream",
          "name": "stdout",
          "text": [
            "6\n",
            "20\n",
            "7\n",
            "20\n",
            "14\n",
            "20\n"
          ]
        }
      ]
    },
    {
      "cell_type": "code",
      "source": [
        "from sklearn.model_selection import train_test_split\n",
        "X_train, X_valid, y_train, y_valid = train_test_split(lyrics_padded, targets, test_size=.1)"
      ],
      "metadata": {
        "id": "IGursX9E7yKf"
      },
      "execution_count": 74,
      "outputs": []
    },
    {
      "cell_type": "code",
      "source": [
        "embed_size = 128\n",
        "num_oov_buckets = 300\n",
        "model = keras.models.Sequential([\n",
        "    keras.layers.Embedding(vocab_size + num_oov_buckets, embed_size,\n",
        "    input_shape=[None]),\n",
        "    keras.layers.GRU(64),\n",
        "    keras.layers.Dense(1, activation=\"sigmoid\")\n",
        "])\n",
        "model.summary()"
      ],
      "metadata": {
        "id": "odhXtaKF483t",
        "colab": {
          "base_uri": "https://localhost:8080/"
        },
        "outputId": "a90ed924-0284-45b2-d54e-3c9040605240"
      },
      "execution_count": 76,
      "outputs": [
        {
          "output_type": "stream",
          "name": "stdout",
          "text": [
            "Model: \"sequential_16\"\n",
            "_________________________________________________________________\n",
            " Layer (type)                Output Shape              Param #   \n",
            "=================================================================\n",
            " embedding_16 (Embedding)    (None, None, 128)         1927936   \n",
            "                                                                 \n",
            " gru_20 (GRU)                (None, 64)                37248     \n",
            "                                                                 \n",
            " dense_22 (Dense)            (None, 1)                 65        \n",
            "                                                                 \n",
            "=================================================================\n",
            "Total params: 1,965,249\n",
            "Trainable params: 1,965,249\n",
            "Non-trainable params: 0\n",
            "_________________________________________________________________\n"
          ]
        }
      ]
    },
    {
      "cell_type": "code",
      "source": [
        "model.compile(loss='binary_crossentropy', optimizer='adam',metrics=['accuracy', tf.keras.metrics.AUC()])"
      ],
      "metadata": {
        "id": "11jk4TAZ6Tgj"
      },
      "execution_count": 77,
      "outputs": []
    },
    {
      "cell_type": "code",
      "source": [
        "history = model.fit(X_train, y_train, epochs=20, verbose=1, batch_size = 32, validation_data=(X_valid, y_valid))"
      ],
      "metadata": {
        "colab": {
          "base_uri": "https://localhost:8080/"
        },
        "id": "6kK8VWJN6TeK",
        "outputId": "8f6d8e66-0d64-409e-80de-109d385de004"
      },
      "execution_count": 78,
      "outputs": [
        {
          "output_type": "stream",
          "name": "stdout",
          "text": [
            "Epoch 1/20\n",
            "1436/1436 [==============================] - 22s 12ms/step - loss: 0.4821 - accuracy: 0.7658 - auc_14: 0.8448 - val_loss: 0.4219 - val_accuracy: 0.8118 - val_auc_14: 0.8878\n",
            "Epoch 2/20\n",
            "1436/1436 [==============================] - 16s 11ms/step - loss: 0.3499 - accuracy: 0.8516 - auc_14: 0.9224 - val_loss: 0.3888 - val_accuracy: 0.8310 - val_auc_14: 0.9052\n",
            "Epoch 3/20\n",
            "1436/1436 [==============================] - 17s 12ms/step - loss: 0.2719 - accuracy: 0.8895 - auc_14: 0.9533 - val_loss: 0.3900 - val_accuracy: 0.8408 - val_auc_14: 0.9105\n",
            "Epoch 4/20\n",
            "1436/1436 [==============================] - 16s 11ms/step - loss: 0.2181 - accuracy: 0.9144 - auc_14: 0.9699 - val_loss: 0.4076 - val_accuracy: 0.8492 - val_auc_14: 0.9102\n",
            "Epoch 5/20\n",
            "1436/1436 [==============================] - 17s 12ms/step - loss: 0.1800 - accuracy: 0.9287 - auc_14: 0.9793 - val_loss: 0.4216 - val_accuracy: 0.8429 - val_auc_14: 0.9083\n",
            "Epoch 6/20\n",
            "1436/1436 [==============================] - 17s 12ms/step - loss: 0.1498 - accuracy: 0.9416 - auc_14: 0.9856 - val_loss: 0.4866 - val_accuracy: 0.8468 - val_auc_14: 0.9042\n",
            "Epoch 7/20\n",
            "1436/1436 [==============================] - 17s 12ms/step - loss: 0.1236 - accuracy: 0.9523 - auc_14: 0.9900 - val_loss: 0.5403 - val_accuracy: 0.8488 - val_auc_14: 0.9044\n",
            "Epoch 8/20\n",
            "1436/1436 [==============================] - 16s 11ms/step - loss: 0.1059 - accuracy: 0.9594 - auc_14: 0.9925 - val_loss: 0.5848 - val_accuracy: 0.8496 - val_auc_14: 0.8998\n",
            "Epoch 9/20\n",
            "1436/1436 [==============================] - 17s 12ms/step - loss: 0.0890 - accuracy: 0.9646 - auc_14: 0.9946 - val_loss: 0.6321 - val_accuracy: 0.8525 - val_auc_14: 0.8950\n",
            "Epoch 10/20\n",
            "1436/1436 [==============================] - 17s 12ms/step - loss: 0.0752 - accuracy: 0.9708 - auc_14: 0.9960 - val_loss: 0.6689 - val_accuracy: 0.8484 - val_auc_14: 0.8953\n",
            "Epoch 11/20\n",
            "1436/1436 [==============================] - 16s 11ms/step - loss: 0.0637 - accuracy: 0.9758 - auc_14: 0.9970 - val_loss: 0.6276 - val_accuracy: 0.8570 - val_auc_14: 0.8975\n",
            "Epoch 12/20\n",
            "1436/1436 [==============================] - 17s 12ms/step - loss: 0.0541 - accuracy: 0.9800 - auc_14: 0.9977 - val_loss: 0.7025 - val_accuracy: 0.8561 - val_auc_14: 0.8944\n",
            "Epoch 13/20\n",
            "1436/1436 [==============================] - 16s 11ms/step - loss: 0.0460 - accuracy: 0.9830 - auc_14: 0.9982 - val_loss: 0.7296 - val_accuracy: 0.8576 - val_auc_14: 0.8980\n",
            "Epoch 14/20\n",
            "1436/1436 [==============================] - 17s 12ms/step - loss: 0.0417 - accuracy: 0.9846 - auc_14: 0.9985 - val_loss: 0.7156 - val_accuracy: 0.8566 - val_auc_14: 0.8967\n",
            "Epoch 15/20\n",
            "1436/1436 [==============================] - 16s 11ms/step - loss: 0.0342 - accuracy: 0.9878 - auc_14: 0.9989 - val_loss: 0.8013 - val_accuracy: 0.8527 - val_auc_14: 0.8934\n",
            "Epoch 16/20\n",
            "1436/1436 [==============================] - 16s 11ms/step - loss: 0.0301 - accuracy: 0.9893 - auc_14: 0.9990 - val_loss: 0.7983 - val_accuracy: 0.8611 - val_auc_14: 0.8966\n",
            "Epoch 17/20\n",
            "1436/1436 [==============================] - 17s 11ms/step - loss: 0.0271 - accuracy: 0.9901 - auc_14: 0.9992 - val_loss: 0.8429 - val_accuracy: 0.8623 - val_auc_14: 0.8975\n",
            "Epoch 18/20\n",
            "1436/1436 [==============================] - 17s 12ms/step - loss: 0.0221 - accuracy: 0.9922 - auc_14: 0.9994 - val_loss: 0.8534 - val_accuracy: 0.8664 - val_auc_14: 0.8985\n",
            "Epoch 19/20\n",
            "1436/1436 [==============================] - 17s 12ms/step - loss: 0.0228 - accuracy: 0.9919 - auc_14: 0.9995 - val_loss: 0.8805 - val_accuracy: 0.8588 - val_auc_14: 0.8985\n",
            "Epoch 20/20\n",
            "1436/1436 [==============================] - 16s 11ms/step - loss: 0.0188 - accuracy: 0.9929 - auc_14: 0.9995 - val_loss: 0.9796 - val_accuracy: 0.8611 - val_auc_14: 0.8898\n"
          ]
        }
      ]
    },
    {
      "cell_type": "code",
      "source": [
        "pd.DataFrame(history.history).plot(figsize=(8, 5))\n",
        "plt.grid(True)\n",
        "plt.gca().set_ylim(0, 1) # set the vertical range to [0-1]\n",
        "plt.show()"
      ],
      "metadata": {
        "colab": {
          "base_uri": "https://localhost:8080/",
          "height": 324
        },
        "id": "03IdcuaJFY1O",
        "outputId": "fe733f29-7755-48fb-83c0-a55f3f5b532a"
      },
      "execution_count": 79,
      "outputs": [
        {
          "output_type": "display_data",
          "data": {
            "image/png": "[encoded data removed]",
            "text/plain": [
              "<Figure size 576x360 with 1 Axes>"
            ]
          },
          "metadata": {
            "needs_background": "light"
          }
        }
      ]
    },
    {
      "cell_type": "code",
      "source": [
        ""
      ],
      "metadata": {
        "id": "1ptOOwWQFZLP"
      },
      "execution_count": null,
      "outputs": []
    }
  ]
}